{
  "nbformat": 4,
  "nbformat_minor": 0,
  "metadata": {
    "colab": {
      "name": "handwritten_digit_detection",
      "provenance": []
    },
    "kernelspec": {
      "name": "python3",
      "display_name": "Python 3"
    }
  },
  "cells": [
    {
      "cell_type": "code",
      "metadata": {
        "id": "63-mEnSXuw06",
        "colab_type": "code",
        "colab": {
          "base_uri": "https://localhost:8080/",
          "height": 50
        },
        "outputId": "ce36ed72-1fe8-4424-caaa-a28cf7142864"
      },
      "source": [
        "#IMPORT THE LIBRARY\n",
        "\n",
        "import numpy as np\n",
        "import pandas as pd\n",
        "import matplotlib.pyplot as plt\n",
        "import seaborn as sns"
      ],
      "execution_count": null,
      "outputs": [
        {
          "output_type": "stream",
          "text": [
            "/usr/local/lib/python3.6/dist-packages/statsmodels/tools/_testing.py:19: FutureWarning: pandas.util.testing is deprecated. Use the functions in the public API at pandas.testing instead.\n",
            "  import pandas.util.testing as tm\n"
          ],
          "name": "stderr"
        }
      ]
    },
    {
      "cell_type": "code",
      "metadata": {
        "id": "rAqNkdh3x2Ba",
        "colab_type": "code",
        "colab": {}
      },
      "source": [
        "# LOAD THE DATASET\n",
        "\n",
        "from tensorflow.keras.datasets import mnist\n",
        "\n",
        "(x_train, y_train), (x_test, y_test) = mnist.load_data()"
      ],
      "execution_count": null,
      "outputs": []
    },
    {
      "cell_type": "code",
      "metadata": {
        "id": "1hivNGj0yM1p",
        "colab_type": "code",
        "colab": {
          "base_uri": "https://localhost:8080/",
          "height": 33
        },
        "outputId": "c6e77230-ced1-42f5-b3fe-5b23d770d8f0"
      },
      "source": [
        "# CHECK THE SHAPE\n",
        "\n",
        "x_train.shape"
      ],
      "execution_count": null,
      "outputs": [
        {
          "output_type": "execute_result",
          "data": {
            "text/plain": [
              "(60000, 28, 28)"
            ]
          },
          "metadata": {
            "tags": []
          },
          "execution_count": 3
        }
      ]
    },
    {
      "cell_type": "code",
      "metadata": {
        "id": "6MPOppr5yp_l",
        "colab_type": "code",
        "colab": {
          "base_uri": "https://localhost:8080/",
          "height": 1000
        },
        "outputId": "91815f0f-766f-4850-d858-045798044d0f"
      },
      "source": [
        "# CHECK A SINGLE IMAGE DATA\n",
        "\n",
        "single_image=x_train[0]\n",
        "single_image"
      ],
      "execution_count": null,
      "outputs": [
        {
          "output_type": "execute_result",
          "data": {
            "text/plain": [
              "array([[  0,   0,   0,   0,   0,   0,   0,   0,   0,   0,   0,   0,   0,\n",
              "          0,   0,   0,   0,   0,   0,   0,   0,   0,   0,   0,   0,   0,\n",
              "          0,   0],\n",
              "       [  0,   0,   0,   0,   0,   0,   0,   0,   0,   0,   0,   0,   0,\n",
              "          0,   0,   0,   0,   0,   0,   0,   0,   0,   0,   0,   0,   0,\n",
              "          0,   0],\n",
              "       [  0,   0,   0,   0,   0,   0,   0,   0,   0,   0,   0,   0,   0,\n",
              "          0,   0,   0,   0,   0,   0,   0,   0,   0,   0,   0,   0,   0,\n",
              "          0,   0],\n",
              "       [  0,   0,   0,   0,   0,   0,   0,   0,   0,   0,   0,   0,   0,\n",
              "          0,   0,   0,   0,   0,   0,   0,   0,   0,   0,   0,   0,   0,\n",
              "          0,   0],\n",
              "       [  0,   0,   0,   0,   0,   0,   0,   0,   0,   0,   0,   0,   0,\n",
              "          0,   0,   0,   0,   0,   0,   0,   0,   0,   0,   0,   0,   0,\n",
              "          0,   0],\n",
              "       [  0,   0,   0,   0,   0,   0,   0,   0,   0,   0,   0,   0,   3,\n",
              "         18,  18,  18, 126, 136, 175,  26, 166, 255, 247, 127,   0,   0,\n",
              "          0,   0],\n",
              "       [  0,   0,   0,   0,   0,   0,   0,   0,  30,  36,  94, 154, 170,\n",
              "        253, 253, 253, 253, 253, 225, 172, 253, 242, 195,  64,   0,   0,\n",
              "          0,   0],\n",
              "       [  0,   0,   0,   0,   0,   0,   0,  49, 238, 253, 253, 253, 253,\n",
              "        253, 253, 253, 253, 251,  93,  82,  82,  56,  39,   0,   0,   0,\n",
              "          0,   0],\n",
              "       [  0,   0,   0,   0,   0,   0,   0,  18, 219, 253, 253, 253, 253,\n",
              "        253, 198, 182, 247, 241,   0,   0,   0,   0,   0,   0,   0,   0,\n",
              "          0,   0],\n",
              "       [  0,   0,   0,   0,   0,   0,   0,   0,  80, 156, 107, 253, 253,\n",
              "        205,  11,   0,  43, 154,   0,   0,   0,   0,   0,   0,   0,   0,\n",
              "          0,   0],\n",
              "       [  0,   0,   0,   0,   0,   0,   0,   0,   0,  14,   1, 154, 253,\n",
              "         90,   0,   0,   0,   0,   0,   0,   0,   0,   0,   0,   0,   0,\n",
              "          0,   0],\n",
              "       [  0,   0,   0,   0,   0,   0,   0,   0,   0,   0,   0, 139, 253,\n",
              "        190,   2,   0,   0,   0,   0,   0,   0,   0,   0,   0,   0,   0,\n",
              "          0,   0],\n",
              "       [  0,   0,   0,   0,   0,   0,   0,   0,   0,   0,   0,  11, 190,\n",
              "        253,  70,   0,   0,   0,   0,   0,   0,   0,   0,   0,   0,   0,\n",
              "          0,   0],\n",
              "       [  0,   0,   0,   0,   0,   0,   0,   0,   0,   0,   0,   0,  35,\n",
              "        241, 225, 160, 108,   1,   0,   0,   0,   0,   0,   0,   0,   0,\n",
              "          0,   0],\n",
              "       [  0,   0,   0,   0,   0,   0,   0,   0,   0,   0,   0,   0,   0,\n",
              "         81, 240, 253, 253, 119,  25,   0,   0,   0,   0,   0,   0,   0,\n",
              "          0,   0],\n",
              "       [  0,   0,   0,   0,   0,   0,   0,   0,   0,   0,   0,   0,   0,\n",
              "          0,  45, 186, 253, 253, 150,  27,   0,   0,   0,   0,   0,   0,\n",
              "          0,   0],\n",
              "       [  0,   0,   0,   0,   0,   0,   0,   0,   0,   0,   0,   0,   0,\n",
              "          0,   0,  16,  93, 252, 253, 187,   0,   0,   0,   0,   0,   0,\n",
              "          0,   0],\n",
              "       [  0,   0,   0,   0,   0,   0,   0,   0,   0,   0,   0,   0,   0,\n",
              "          0,   0,   0,   0, 249, 253, 249,  64,   0,   0,   0,   0,   0,\n",
              "          0,   0],\n",
              "       [  0,   0,   0,   0,   0,   0,   0,   0,   0,   0,   0,   0,   0,\n",
              "          0,  46, 130, 183, 253, 253, 207,   2,   0,   0,   0,   0,   0,\n",
              "          0,   0],\n",
              "       [  0,   0,   0,   0,   0,   0,   0,   0,   0,   0,   0,   0,  39,\n",
              "        148, 229, 253, 253, 253, 250, 182,   0,   0,   0,   0,   0,   0,\n",
              "          0,   0],\n",
              "       [  0,   0,   0,   0,   0,   0,   0,   0,   0,   0,  24, 114, 221,\n",
              "        253, 253, 253, 253, 201,  78,   0,   0,   0,   0,   0,   0,   0,\n",
              "          0,   0],\n",
              "       [  0,   0,   0,   0,   0,   0,   0,   0,  23,  66, 213, 253, 253,\n",
              "        253, 253, 198,  81,   2,   0,   0,   0,   0,   0,   0,   0,   0,\n",
              "          0,   0],\n",
              "       [  0,   0,   0,   0,   0,   0,  18, 171, 219, 253, 253, 253, 253,\n",
              "        195,  80,   9,   0,   0,   0,   0,   0,   0,   0,   0,   0,   0,\n",
              "          0,   0],\n",
              "       [  0,   0,   0,   0,  55, 172, 226, 253, 253, 253, 253, 244, 133,\n",
              "         11,   0,   0,   0,   0,   0,   0,   0,   0,   0,   0,   0,   0,\n",
              "          0,   0],\n",
              "       [  0,   0,   0,   0, 136, 253, 253, 253, 212, 135, 132,  16,   0,\n",
              "          0,   0,   0,   0,   0,   0,   0,   0,   0,   0,   0,   0,   0,\n",
              "          0,   0],\n",
              "       [  0,   0,   0,   0,   0,   0,   0,   0,   0,   0,   0,   0,   0,\n",
              "          0,   0,   0,   0,   0,   0,   0,   0,   0,   0,   0,   0,   0,\n",
              "          0,   0],\n",
              "       [  0,   0,   0,   0,   0,   0,   0,   0,   0,   0,   0,   0,   0,\n",
              "          0,   0,   0,   0,   0,   0,   0,   0,   0,   0,   0,   0,   0,\n",
              "          0,   0],\n",
              "       [  0,   0,   0,   0,   0,   0,   0,   0,   0,   0,   0,   0,   0,\n",
              "          0,   0,   0,   0,   0,   0,   0,   0,   0,   0,   0,   0,   0,\n",
              "          0,   0]], dtype=uint8)"
            ]
          },
          "metadata": {
            "tags": []
          },
          "execution_count": 4
        }
      ]
    },
    {
      "cell_type": "code",
      "metadata": {
        "id": "lRm4LFueyuTc",
        "colab_type": "code",
        "colab": {
          "base_uri": "https://localhost:8080/",
          "height": 33
        },
        "outputId": "74f58aa9-8625-4924-b0ba-72ef9574da82"
      },
      "source": [
        "single_image.shape"
      ],
      "execution_count": null,
      "outputs": [
        {
          "output_type": "execute_result",
          "data": {
            "text/plain": [
              "(28, 28)"
            ]
          },
          "metadata": {
            "tags": []
          },
          "execution_count": 5
        }
      ]
    },
    {
      "cell_type": "code",
      "metadata": {
        "id": "3NB4CmNky5UV",
        "colab_type": "code",
        "colab": {
          "base_uri": "https://localhost:8080/",
          "height": 281
        },
        "outputId": "0f9421fa-788f-4e97-bced-888447c7e0e4"
      },
      "source": [
        "# SEE THE IMAGE\n",
        "\n",
        "plt.imshow(single_image)"
      ],
      "execution_count": null,
      "outputs": [
        {
          "output_type": "execute_result",
          "data": {
            "text/plain": [
              "<matplotlib.image.AxesImage at 0x7f6fb077a2b0>"
            ]
          },
          "metadata": {
            "tags": []
          },
          "execution_count": 6
        },
        {
          "output_type": "display_data",
          "data": {
            "image/png": "[encoded data removed]",
            "text/plain": [
              "<Figure size 432x288 with 1 Axes>"
            ]
          },
          "metadata": {
            "tags": [],
            "needs_background": "light"
          }
        }
      ]
    },
    {
      "cell_type": "code",
      "metadata": {
        "id": "vyyxXMx9y950",
        "colab_type": "code",
        "colab": {}
      },
      "source": [
        "# CONVERT THE Y VALUES INTO ONEHOTENCODER"
      ],
      "execution_count": null,
      "outputs": []
    },
    {
      "cell_type": "code",
      "metadata": {
        "id": "888N0xVazg9u",
        "colab_type": "code",
        "colab": {
          "base_uri": "https://localhost:8080/",
          "height": 33
        },
        "outputId": "8d9e754b-edc6-43c9-d444-9d3c6692d87c"
      },
      "source": [
        "y_train"
      ],
      "execution_count": null,
      "outputs": [
        {
          "output_type": "execute_result",
          "data": {
            "text/plain": [
              "array([5, 0, 4, ..., 5, 6, 8], dtype=uint8)"
            ]
          },
          "metadata": {
            "tags": []
          },
          "execution_count": 8
        }
      ]
    },
    {
      "cell_type": "code",
      "metadata": {
        "id": "4B5WK-fwznaN",
        "colab_type": "code",
        "colab": {
          "base_uri": "https://localhost:8080/",
          "height": 33
        },
        "outputId": "785577bc-531d-48cf-e4c5-4752ab29b2fb"
      },
      "source": [
        "y_test"
      ],
      "execution_count": null,
      "outputs": [
        {
          "output_type": "execute_result",
          "data": {
            "text/plain": [
              "array([7, 2, 1, ..., 4, 5, 6], dtype=uint8)"
            ]
          },
          "metadata": {
            "tags": []
          },
          "execution_count": 9
        }
      ]
    },
    {
      "cell_type": "code",
      "metadata": {
        "id": "RzqoyeuVzr4q",
        "colab_type": "code",
        "colab": {}
      },
      "source": [
        "from tensorflow.keras.utils import to_categorical\n",
        "\n",
        "y_cat_train=to_categorical(y_train,10)\n",
        "y_cat_test=to_categorical(y_test,10)"
      ],
      "execution_count": null,
      "outputs": []
    },
    {
      "cell_type": "code",
      "metadata": {
        "id": "hzwWWcMZzznt",
        "colab_type": "code",
        "colab": {
          "base_uri": "https://localhost:8080/",
          "height": 131
        },
        "outputId": "a3316d9f-cfe1-4984-9635-abb47dccb5b8"
      },
      "source": [
        "y_cat_train"
      ],
      "execution_count": null,
      "outputs": [
        {
          "output_type": "execute_result",
          "data": {
            "text/plain": [
              "array([[0., 0., 0., ..., 0., 0., 0.],\n",
              "       [1., 0., 0., ..., 0., 0., 0.],\n",
              "       [0., 0., 0., ..., 0., 0., 0.],\n",
              "       ...,\n",
              "       [0., 0., 0., ..., 0., 0., 0.],\n",
              "       [0., 0., 0., ..., 0., 0., 0.],\n",
              "       [0., 0., 0., ..., 0., 1., 0.]], dtype=float32)"
            ]
          },
          "metadata": {
            "tags": []
          },
          "execution_count": 11
        }
      ]
    },
    {
      "cell_type": "code",
      "metadata": {
        "id": "EgrRwNNgz2Jm",
        "colab_type": "code",
        "colab": {
          "base_uri": "https://localhost:8080/",
          "height": 131
        },
        "outputId": "5ac82c3d-9dfd-4c51-9a57-b1cac9109c56"
      },
      "source": [
        "y_cat_test"
      ],
      "execution_count": null,
      "outputs": [
        {
          "output_type": "execute_result",
          "data": {
            "text/plain": [
              "array([[0., 0., 0., ..., 1., 0., 0.],\n",
              "       [0., 0., 1., ..., 0., 0., 0.],\n",
              "       [0., 1., 0., ..., 0., 0., 0.],\n",
              "       ...,\n",
              "       [0., 0., 0., ..., 0., 0., 0.],\n",
              "       [0., 0., 0., ..., 0., 0., 0.],\n",
              "       [0., 0., 0., ..., 0., 0., 0.]], dtype=float32)"
            ]
          },
          "metadata": {
            "tags": []
          },
          "execution_count": 12
        }
      ]
    },
    {
      "cell_type": "code",
      "metadata": {
        "id": "41aVvanf0AXT",
        "colab_type": "code",
        "colab": {
          "base_uri": "https://localhost:8080/",
          "height": 33
        },
        "outputId": "a3cc459e-3b0b-433b-db85-f40e7504511d"
      },
      "source": [
        "# CHECK SINGLE VALUE\n",
        "\n",
        "y_cat_test[0]"
      ],
      "execution_count": null,
      "outputs": [
        {
          "output_type": "execute_result",
          "data": {
            "text/plain": [
              "array([0., 0., 0., 0., 0., 0., 0., 1., 0., 0.], dtype=float32)"
            ]
          },
          "metadata": {
            "tags": []
          },
          "execution_count": 13
        }
      ]
    },
    {
      "cell_type": "code",
      "metadata": {
        "id": "sRbWj79_0N-M",
        "colab_type": "code",
        "colab": {
          "base_uri": "https://localhost:8080/",
          "height": 281
        },
        "outputId": "0cdd83a2-b23a-434d-d061-648ec4ff7c22"
      },
      "source": [
        "plt.imshow(x_test[0])"
      ],
      "execution_count": null,
      "outputs": [
        {
          "output_type": "execute_result",
          "data": {
            "text/plain": [
              "<matplotlib.image.AxesImage at 0x7f6fb0718b70>"
            ]
          },
          "metadata": {
            "tags": []
          },
          "execution_count": 14
        },
        {
          "output_type": "display_data",
          "data": {
            "image/png": "[encoded data removed]",
            "text/plain": [
              "<Figure size 432x288 with 1 Axes>"
            ]
          },
          "metadata": {
            "tags": [],
            "needs_background": "light"
          }
        }
      ]
    },
    {
      "cell_type": "code",
      "metadata": {
        "id": "RFIDjrJ_0_dK",
        "colab_type": "code",
        "colab": {
          "base_uri": "https://localhost:8080/",
          "height": 33
        },
        "outputId": "b5001a5c-a1e5-4bc4-bece-6113f19d1f04"
      },
      "source": [
        "# CHECK THE SHAPE\n",
        "\n",
        "y_cat_train.shape"
      ],
      "execution_count": null,
      "outputs": [
        {
          "output_type": "execute_result",
          "data": {
            "text/plain": [
              "(60000, 10)"
            ]
          },
          "metadata": {
            "tags": []
          },
          "execution_count": 15
        }
      ]
    },
    {
      "cell_type": "code",
      "metadata": {
        "id": "KWvW11-S1FJC",
        "colab_type": "code",
        "colab": {}
      },
      "source": [
        "# MIN-MAX SCALING ON X_TRAIN AND X_TEST DATA\n",
        "\n",
        "x_train=x_train/255\n",
        "x_test=x_test/255"
      ],
      "execution_count": null,
      "outputs": []
    },
    {
      "cell_type": "code",
      "metadata": {
        "id": "9oQ79Rbc1Px4",
        "colab_type": "code",
        "colab": {
          "base_uri": "https://localhost:8080/",
          "height": 33
        },
        "outputId": "418224de-cf3c-43ee-a5de-d11e3cd71f82"
      },
      "source": [
        "x_train[0].max()"
      ],
      "execution_count": null,
      "outputs": [
        {
          "output_type": "execute_result",
          "data": {
            "text/plain": [
              "1.0"
            ]
          },
          "metadata": {
            "tags": []
          },
          "execution_count": 17
        }
      ]
    },
    {
      "cell_type": "code",
      "metadata": {
        "id": "EOyuYcts13_7",
        "colab_type": "code",
        "colab": {
          "base_uri": "https://localhost:8080/",
          "height": 33
        },
        "outputId": "b3a77000-33c6-448d-8e09-9d843284342d"
      },
      "source": [
        "x_train[0].min()"
      ],
      "execution_count": null,
      "outputs": [
        {
          "output_type": "execute_result",
          "data": {
            "text/plain": [
              "0.0"
            ]
          },
          "metadata": {
            "tags": []
          },
          "execution_count": 18
        }
      ]
    },
    {
      "cell_type": "code",
      "metadata": {
        "id": "td16FaHj0XKC",
        "colab_type": "code",
        "colab": {}
      },
      "source": [
        "# Reshape to include channel dimension (in this case, 1 channel)\n",
        "\n",
        "\n",
        "x_train = x_train.reshape(60000, 28, 28, 1)\n",
        "x_test=x_test.reshape(10000,28,28,1)"
      ],
      "execution_count": null,
      "outputs": []
    },
    {
      "cell_type": "code",
      "metadata": {
        "id": "3pWuSMIo2SiN",
        "colab_type": "code",
        "colab": {}
      },
      "source": [
        "# CREATE AND TRAIN THE MODEL\n"
      ],
      "execution_count": null,
      "outputs": []
    },
    {
      "cell_type": "code",
      "metadata": {
        "id": "DtlFhDhA2Zdp",
        "colab_type": "code",
        "colab": {}
      },
      "source": [
        "from tensorflow.keras.models import Sequential\n",
        "from tensorflow.keras.layers import Dense,Conv2D,MaxPool2D,Flatten,Dropout"
      ],
      "execution_count": null,
      "outputs": []
    },
    {
      "cell_type": "code",
      "metadata": {
        "id": "30lAr1jN2gKQ",
        "colab_type": "code",
        "colab": {}
      },
      "source": [
        "model=Sequential()\n",
        "\n",
        "#CONVOLUTIONAL LAYER 1\n",
        "\n",
        "model.add(Conv2D(filters=32, kernel_size=(4,4),input_shape=(28, 28, 1), activation='relu'))\n",
        "\n",
        "#CONVOLUTIONAL LAYER 2\n",
        "\n",
        "model.add(Conv2D(filters=35, kernel_size=(4,4),input_shape=(28, 28, 1), activation='relu'))\n",
        "\n",
        "\n",
        "# POOLING LAYER 1\n",
        "\n",
        "model.add(MaxPool2D(pool_size=(2, 2),strides=(1, 1), padding='valid'))\n",
        "\n",
        "\n",
        "\n",
        "# POOLING LAYER 2\n",
        "\n",
        "model.add(MaxPool2D(pool_size=(2, 2),strides=(1, 1), padding='valid'))\n",
        "\n",
        "\n",
        "# Flatten the input\n",
        "\n",
        "model.add(Flatten())\n",
        "\n",
        "\n",
        "# 128 NEURONS IN DENSE HIDDEN LAYER (YOU CAN CHANGE THIS NUMBER OF NEURONS)\n",
        "\n",
        "model.add(Dense(128, activation='relu'))\n",
        "model.add(Dropout(.5))\n",
        "\n",
        "\n",
        "# 128 NEURONS IN DENSE HIDDEN LAYER (YOU CAN CHANGE THIS NUMBER OF NEURONS)\n",
        "\n",
        "model.add(Dense(75, activation='relu'))\n",
        "model.add(Dropout(.5))\n",
        "\n",
        "\n",
        "# OP LAYER\n",
        "\n",
        "model.add(Dense(10,activation='softmax'))\n",
        "\n",
        "\n",
        "model.compile(optimizer='adam',\n",
        "    loss='categorical_crossentropy',\n",
        "    metrics=['accuracy'])"
      ],
      "execution_count": null,
      "outputs": []
    },
    {
      "cell_type": "code",
      "metadata": {
        "id": "CbwhJV5h2riO",
        "colab_type": "code",
        "colab": {}
      },
      "source": [
        "from tensorflow.keras.callbacks import EarlyStopping\n",
        "\n",
        "earlystopper=EarlyStopping(monitor='val_loss',patience=2)"
      ],
      "execution_count": null,
      "outputs": []
    },
    {
      "cell_type": "code",
      "metadata": {
        "id": "F55M490y2zF5",
        "colab_type": "code",
        "colab": {
          "base_uri": "https://localhost:8080/",
          "height": 261
        },
        "outputId": "02c8435f-6ad9-4c63-ce7a-835a213dfa50"
      },
      "source": [
        "# FIT THE MODEL INTO THE DATASET\n",
        "\n",
        "model.fit(x_train,y_cat_train,epochs=250,batch_size=128,validation_data=(x_test,y_cat_test),callbacks=[earlystopper])"
      ],
      "execution_count": null,
      "outputs": [
        {
          "output_type": "stream",
          "text": [
            "Epoch 1/250\n",
            "469/469 [==============================] - 178s 380ms/step - loss: 0.3974 - accuracy: 0.8755 - val_loss: 0.0541 - val_accuracy: 0.9841\n",
            "Epoch 2/250\n",
            "469/469 [==============================] - 178s 380ms/step - loss: 0.1343 - accuracy: 0.9637 - val_loss: 0.0371 - val_accuracy: 0.9901\n",
            "Epoch 3/250\n",
            "469/469 [==============================] - 179s 382ms/step - loss: 0.0980 - accuracy: 0.9741 - val_loss: 0.0315 - val_accuracy: 0.9909\n",
            "Epoch 4/250\n",
            "469/469 [==============================] - 176s 376ms/step - loss: 0.0828 - accuracy: 0.9779 - val_loss: 0.0399 - val_accuracy: 0.9899\n",
            "Epoch 5/250\n",
            "469/469 [==============================] - 177s 377ms/step - loss: 0.0704 - accuracy: 0.9814 - val_loss: 0.0252 - val_accuracy: 0.9939\n",
            "Epoch 6/250\n",
            "469/469 [==============================] - 177s 377ms/step - loss: 0.0630 - accuracy: 0.9831 - val_loss: 0.0289 - val_accuracy: 0.9923\n",
            "Epoch 7/250\n",
            "469/469 [==============================] - 176s 376ms/step - loss: 0.0530 - accuracy: 0.9865 - val_loss: 0.0349 - val_accuracy: 0.9910\n"
          ],
          "name": "stdout"
        },
        {
          "output_type": "execute_result",
          "data": {
            "text/plain": [
              "<tensorflow.python.keras.callbacks.History at 0x7f6fa2b00d68>"
            ]
          },
          "metadata": {
            "tags": []
          },
          "execution_count": 24
        }
      ]
    },
    {
      "cell_type": "code",
      "metadata": {
        "id": "L4jAA_KR8i3j",
        "colab_type": "code",
        "colab": {
          "base_uri": "https://localhost:8080/",
          "height": 248
        },
        "outputId": "c2c8cd46-6bb5-4196-bc98-c82d69c7e95d"
      },
      "source": [
        "# KEEP TRACK OF THE METRICES IN EACH EPOCHS\n",
        "\n",
        "pd.DataFrame(model.history.history)"
      ],
      "execution_count": null,
      "outputs": [
        {
          "output_type": "execute_result",
          "data": {
            "text/html": [
              "<div>\n",
              "<style scoped>\n",
              "    .dataframe tbody tr th:only-of-type {\n",
              "        vertical-align: middle;\n",
              "    }\n",
              "\n",
              "    .dataframe tbody tr th {\n",
              "        vertical-align: top;\n",
              "    }\n",
              "\n",
              "    .dataframe thead th {\n",
              "        text-align: right;\n",
              "    }\n",
              "</style>\n",
              "<table border=\"1\" class=\"dataframe\">\n",
              "  <thead>\n",
              "    <tr style=\"text-align: right;\">\n",
              "      <th></th>\n",
              "      <th>loss</th>\n",
              "      <th>accuracy</th>\n",
              "      <th>val_loss</th>\n",
              "      <th>val_accuracy</th>\n",
              "    </tr>\n",
              "  </thead>\n",
              "  <tbody>\n",
              "    <tr>\n",
              "      <th>0</th>\n",
              "      <td>0.397353</td>\n",
              "      <td>0.875467</td>\n",
              "      <td>0.054128</td>\n",
              "      <td>0.9841</td>\n",
              "    </tr>\n",
              "    <tr>\n",
              "      <th>1</th>\n",
              "      <td>0.134287</td>\n",
              "      <td>0.963733</td>\n",
              "      <td>0.037079</td>\n",
              "      <td>0.9901</td>\n",
              "    </tr>\n",
              "    <tr>\n",
              "      <th>2</th>\n",
              "      <td>0.098005</td>\n",
              "      <td>0.974100</td>\n",
              "      <td>0.031521</td>\n",
              "      <td>0.9909</td>\n",
              "    </tr>\n",
              "    <tr>\n",
              "      <th>3</th>\n",
              "      <td>0.082845</td>\n",
              "      <td>0.977850</td>\n",
              "      <td>0.039880</td>\n",
              "      <td>0.9899</td>\n",
              "    </tr>\n",
              "    <tr>\n",
              "      <th>4</th>\n",
              "      <td>0.070446</td>\n",
              "      <td>0.981383</td>\n",
              "      <td>0.025158</td>\n",
              "      <td>0.9939</td>\n",
              "    </tr>\n",
              "    <tr>\n",
              "      <th>5</th>\n",
              "      <td>0.062982</td>\n",
              "      <td>0.983117</td>\n",
              "      <td>0.028859</td>\n",
              "      <td>0.9923</td>\n",
              "    </tr>\n",
              "    <tr>\n",
              "      <th>6</th>\n",
              "      <td>0.052976</td>\n",
              "      <td>0.986517</td>\n",
              "      <td>0.034939</td>\n",
              "      <td>0.9910</td>\n",
              "    </tr>\n",
              "  </tbody>\n",
              "</table>\n",
              "</div>"
            ],
            "text/plain": [
              "       loss  accuracy  val_loss  val_accuracy\n",
              "0  0.397353  0.875467  0.054128        0.9841\n",
              "1  0.134287  0.963733  0.037079        0.9901\n",
              "2  0.098005  0.974100  0.031521        0.9909\n",
              "3  0.082845  0.977850  0.039880        0.9899\n",
              "4  0.070446  0.981383  0.025158        0.9939\n",
              "5  0.062982  0.983117  0.028859        0.9923\n",
              "6  0.052976  0.986517  0.034939        0.9910"
            ]
          },
          "metadata": {
            "tags": []
          },
          "execution_count": 26
        }
      ]
    },
    {
      "cell_type": "code",
      "metadata": {
        "id": "tI_XcvV68pf2",
        "colab_type": "code",
        "colab": {
          "base_uri": "https://localhost:8080/",
          "height": 281
        },
        "outputId": "366324cf-6b3f-4ea5-b373-14d72501320b"
      },
      "source": [
        "# PLOT THE TRACK OF LOSS AND VALIDATION LOSS\n",
        "\n",
        "pd.DataFrame(model.history.history)[['loss','val_loss']].plot()"
      ],
      "execution_count": null,
      "outputs": [
        {
          "output_type": "execute_result",
          "data": {
            "text/plain": [
              "<matplotlib.axes._subplots.AxesSubplot at 0x7f6fa03d75c0>"
            ]
          },
          "metadata": {
            "tags": []
          },
          "execution_count": 27
        },
        {
          "output_type": "display_data",
          "data": {
            "image/png": "[encoded data removed]",
            "text/plain": [
              "<Figure size 432x288 with 1 Axes>"
            ]
          },
          "metadata": {
            "tags": [],
            "needs_background": "light"
          }
        }
      ]
    },
    {
      "cell_type": "code",
      "metadata": {
        "id": "qnElfp4K8xtx",
        "colab_type": "code",
        "colab": {
          "base_uri": "https://localhost:8080/",
          "height": 281
        },
        "outputId": "eaba5ef8-253e-4c60-e76e-f1ccc8308442"
      },
      "source": [
        "#PLOT THE TRACK OF ACCURACY AND VALIDATION ACCURACY\n",
        "\n",
        "pd.DataFrame(model.history.history)[['accuracy','val_accuracy']].plot()"
      ],
      "execution_count": null,
      "outputs": [
        {
          "output_type": "execute_result",
          "data": {
            "text/plain": [
              "<matplotlib.axes._subplots.AxesSubplot at 0x7f6f9faa7128>"
            ]
          },
          "metadata": {
            "tags": []
          },
          "execution_count": 28
        },
        {
          "output_type": "display_data",
          "data": {
            "image/png": "[encoded data removed]",
            "text/plain": [
              "<Figure size 432x288 with 1 Axes>"
            ]
          },
          "metadata": {
            "tags": [],
            "needs_background": "light"
          }
        }
      ]
    },
    {
      "cell_type": "code",
      "metadata": {
        "id": "6sS3LXdZ844R",
        "colab_type": "code",
        "colab": {
          "base_uri": "https://localhost:8080/",
          "height": 102
        },
        "outputId": "44f6381c-a765-415b-b1c8-3b75f9a499e4"
      },
      "source": [
        "# MAKE PREDICTIONS WITH THE MODEL\n",
        "\n",
        "\n",
        "predictions=model.predict_classes(x_test)\n",
        "predictions"
      ],
      "execution_count": null,
      "outputs": [
        {
          "output_type": "stream",
          "text": [
            "WARNING:tensorflow:From <ipython-input-29-38d7ab68b2e9>:1: Sequential.predict_classes (from tensorflow.python.keras.engine.sequential) is deprecated and will be removed after 2021-01-01.\n",
            "Instructions for updating:\n",
            "Please use instead:* `np.argmax(model.predict(x), axis=-1)`,   if your model does multi-class classification   (e.g. if it uses a `softmax` last-layer activation).* `(model.predict(x) > 0.5).astype(\"int32\")`,   if your model does binary classification   (e.g. if it uses a `sigmoid` last-layer activation).\n"
          ],
          "name": "stdout"
        },
        {
          "output_type": "execute_result",
          "data": {
            "text/plain": [
              "array([7, 2, 1, ..., 4, 5, 6])"
            ]
          },
          "metadata": {
            "tags": []
          },
          "execution_count": 29
        }
      ]
    },
    {
      "cell_type": "code",
      "metadata": {
        "id": "fssgL9bq9Lbm",
        "colab_type": "code",
        "colab": {
          "base_uri": "https://localhost:8080/",
          "height": 50
        },
        "outputId": "ede98747-460f-4aa0-aede-6ae06c9aab3d"
      },
      "source": [
        "#EVALUATE THE MODEL\n",
        "\n",
        "print(model.metrics_names)\n",
        "print(model.evaluate(x_test,y_cat_test,verbose=0))"
      ],
      "execution_count": null,
      "outputs": [
        {
          "output_type": "stream",
          "text": [
            "['loss', 'accuracy']\n",
            "[0.03493859991431236, 0.9909999966621399]\n"
          ],
          "name": "stdout"
        }
      ]
    },
    {
      "cell_type": "code",
      "metadata": {
        "id": "VMMwg0MY9S17",
        "colab_type": "code",
        "colab": {
          "base_uri": "https://localhost:8080/",
          "height": 472
        },
        "outputId": "3ea66eaa-72d6-44ce-e992-e22bf49f4718"
      },
      "source": [
        "#CHECK THE ERROR METRICES\n",
        "\n",
        "from sklearn.metrics import classification_report,confusion_matrix\n",
        "\n",
        "print(classification_report(y_test,predictions))\n",
        "print('________________________________________________')\n",
        "print(confusion_matrix(y_test,predictions))"
      ],
      "execution_count": null,
      "outputs": [
        {
          "output_type": "stream",
          "text": [
            "              precision    recall  f1-score   support\n",
            "\n",
            "           0       0.99      1.00      0.99       980\n",
            "           1       1.00      0.99      0.99      1135\n",
            "           2       0.98      1.00      0.99      1032\n",
            "           3       1.00      0.99      0.99      1010\n",
            "           4       0.99      1.00      0.99       982\n",
            "           5       0.97      1.00      0.98       892\n",
            "           6       1.00      0.98      0.99       958\n",
            "           7       0.99      0.99      0.99      1028\n",
            "           8       1.00      0.99      0.99       974\n",
            "           9       0.99      0.98      0.99      1009\n",
            "\n",
            "    accuracy                           0.99     10000\n",
            "   macro avg       0.99      0.99      0.99     10000\n",
            "weighted avg       0.99      0.99      0.99     10000\n",
            "\n",
            "________________________________________________\n",
            "[[ 978    0    1    0    0    0    0    1    0    0]\n",
            " [   0 1123    2    2    0    5    1    2    0    0]\n",
            " [   0    0 1030    0    0    0    0    2    0    0]\n",
            " [   0    0    3  997    0    8    0    1    1    0]\n",
            " [   0    0    1    0  979    0    0    0    0    2]\n",
            " [   0    0    0    2    0  889    1    0    0    0]\n",
            " [   4    1    0    0    2    8  943    0    0    0]\n",
            " [   0    0    7    0    1    0    0 1018    1    1]\n",
            " [   2    0    4    1    1    1    0    1  962    2]\n",
            " [   3    0    2    0    3    8    0    1    1  991]]\n"
          ],
          "name": "stdout"
        }
      ]
    },
    {
      "cell_type": "code",
      "metadata": {
        "id": "EgZhp_CC9pYl",
        "colab_type": "code",
        "colab": {}
      },
      "source": [
        "from IPython.display import display, Javascript\n",
        "from google.colab.output import eval_js\n",
        "from base64 import b64decode\n",
        "\n",
        "def take_photo(filename='photo.jpg', quality=0.8):\n",
        "  js = Javascript('''\n",
        "    async function takePhoto(quality) {\n",
        "      const div = document.createElement('div');\n",
        "      const capture = document.createElement('button');\n",
        "      capture.textContent = 'Capture';\n",
        "      div.appendChild(capture);\n",
        "\n",
        "      const video = document.createElement('video');\n",
        "      video.style.display = 'block';\n",
        "      const stream = await navigator.mediaDevices.getUserMedia({video: true});\n",
        "\n",
        "      document.body.appendChild(div);\n",
        "      div.appendChild(video);\n",
        "      video.srcObject = stream;\n",
        "      await video.play();\n",
        "\n",
        "      // Resize the output to fit the video element.\n",
        "      google.colab.output.setIframeHeight(document.documentElement.scrollHeight, true);\n",
        "\n",
        "      // Wait for Capture to be clicked.\n",
        "      await new Promise((resolve) => capture.onclick = resolve);\n",
        "\n",
        "      const canvas = document.createElement('canvas');\n",
        "      canvas.width = video.videoWidth;\n",
        "      canvas.height = video.videoHeight;\n",
        "      canvas.getContext('2d').drawImage(video, 0, 0);\n",
        "      stream.getVideoTracks()[0].stop();\n",
        "      div.remove();\n",
        "      return canvas.toDataURL('image/jpeg', quality);\n",
        "    }\n",
        "    ''')\n",
        "  display(js)\n",
        "  data = eval_js('takePhoto({})'.format(quality))\n",
        "  binary = b64decode(data.split(',')[1])\n",
        "  with open(filename, 'wb') as f:\n",
        "      f.write(binary)\n",
        "  return filename"
      ],
      "execution_count": null,
      "outputs": []
    },
    {
      "cell_type": "code",
      "metadata": {
        "id": "87TJb1i1_oIB",
        "colab_type": "code",
        "colab": {
          "base_uri": "https://localhost:8080/",
          "height": 513
        },
        "outputId": "b9df3b31-1df9-45ff-a00c-dcfd8fe8b9b9"
      },
      "source": [
        "# OPEN THE WEBCAM AND CAPTURE THE IMAGE AND SAVE IT WITH THE NAME PHOTO.JPG\n",
        "\n",
        "from IPython.display import Image\n",
        "try:\n",
        "  filename = take_photo()\n",
        "  print('Saved to {}'.format(filename))\n",
        "  \n",
        "  # Show the image which was just taken.\n",
        "  display(Image(filename))\n",
        "except Exception as err:\n",
        "  # Errors will be thrown if the user does not have a webcam or if they do not\n",
        "  # grant the page permission to access it.\n",
        "  print(str(err))"
      ],
      "execution_count": null,
      "outputs": [
        {
          "output_type": "display_data",
          "data": {
            "application/javascript": [
              "\n",
              "    async function takePhoto(quality) {\n",
              "      const div = document.createElement('div');\n",
              "      const capture = document.createElement('button');\n",
              "      capture.textContent = 'Capture';\n",
              "      div.appendChild(capture);\n",
              "\n",
              "      const video = document.createElement('video');\n",
              "      video.style.display = 'block';\n",
              "      const stream = await navigator.mediaDevices.getUserMedia({video: true});\n",
              "\n",
              "      document.body.appendChild(div);\n",
              "      div.appendChild(video);\n",
              "      video.srcObject = stream;\n",
              "      await video.play();\n",
              "\n",
              "      // Resize the output to fit the video element.\n",
              "      google.colab.output.setIframeHeight(document.documentElement.scrollHeight, true);\n",
              "\n",
              "      // Wait for Capture to be clicked.\n",
              "      await new Promise((resolve) => capture.onclick = resolve);\n",
              "\n",
              "      const canvas = document.createElement('canvas');\n",
              "      canvas.width = video.videoWidth;\n",
              "      canvas.height = video.videoHeight;\n",
              "      canvas.getContext('2d').drawImage(video, 0, 0);\n",
              "      stream.getVideoTracks()[0].stop();\n",
              "      div.remove();\n",
              "      return canvas.toDataURL('image/jpeg', quality);\n",
              "    }\n",
              "    "
            ],
            "text/plain": [
              "<IPython.core.display.Javascript object>"
            ]
          },
          "metadata": {
            "tags": []
          }
        },
        {
          "output_type": "stream",
          "text": [
            "Saved to photo.jpg\n"
          ],
          "name": "stdout"
        },
        {
          "output_type": "display_data",
          "data": {
            "image/jpeg": "[encoded data removed]",
            "text/plain": [
              "<IPython.core.display.Image object>"
            ]
          },
          "metadata": {
            "tags": []
          }
        }
      ]
    },
    {
      "cell_type": "code",
      "metadata": {
        "id": "8GIxxMmMAS4N",
        "colab_type": "code",
        "colab": {
          "base_uri": "https://localhost:8080/",
          "height": 550
        },
        "outputId": "471e4393-84ea-490f-e62a-0142e92ebf0a"
      },
      "source": [
        "# TAKE THE IMAGE\n",
        "# CONVERT IT INTO GRAYSCALE IMAGE\n",
        "# RESHAPE IT INTO (1,28,28,1) TO FFED THE DATA INTO OUR DL MODEL\n",
        "from PIL import Image\n",
        "import cv2\n",
        "user_test = filename\n",
        "col = Image.open(user_test)\n",
        "gray = col.convert('L')\n",
        "bw = gray.point(lambda x: 0 if x<100 else 255, '1')\n",
        "bw.save(\"bw_image.jpg\")\n",
        "bw\n",
        "img_array = cv2.imread(\"bw_image.jpg\", cv2.IMREAD_GRAYSCALE)\n",
        "img_array = cv2.bitwise_not(img_array)\n",
        "print(img_array.size)\n",
        "plt.imshow(img_array, cmap = plt.cm.binary)\n",
        "plt.show()\n",
        "img_size = 28\n",
        "new_array = cv2.resize(img_array, (img_size,img_size))\n",
        "plt.imshow(new_array, cmap = plt.cm.binary)\n",
        "plt.show()\n",
        "user_test =new_array/255\n",
        "#user_test=user_test.reshape(1,28,28,1)\n",
        "predicted = model.predict_classes(user_test.reshape(1,28,28,1))\n",
        "print('the output will be :',predicted)"
      ],
      "execution_count": null,
      "outputs": [
        {
          "output_type": "stream",
          "text": [
            "307200\n"
          ],
          "name": "stdout"
        },
        {
          "output_type": "display_data",
          "data": {
            "image/png": "[encoded data removed]",
            "text/plain": [
              "<Figure size 432x288 with 1 Axes>"
            ]
          },
          "metadata": {
            "tags": [],
            "needs_background": "light"
          }
        },
        {
          "output_type": "display_data",
          "data": {
            "image/png": "[encoded data removed]",
            "text/plain": [
              "<Figure size 432x288 with 1 Axes>"
            ]
          },
          "metadata": {
            "tags": [],
            "needs_background": "light"
          }
        },
        {
          "output_type": "stream",
          "text": [
            "the output will be : [2]\n"
          ],
          "name": "stdout"
        }
      ]
    },
    {
      "cell_type": "code",
      "metadata": {
        "id": "QeySP7qiFx0l",
        "colab_type": "code",
        "colab": {}
      },
      "source": [
        ""
      ],
      "execution_count": null,
      "outputs": []
    },
    {
      "cell_type": "code",
      "metadata": {
        "id": "88eBtOfcCaPN",
        "colab_type": "code",
        "colab": {
          "base_uri": "https://localhost:8080/",
          "height": 33
        },
        "outputId": "e9c9806c-46b2-49dc-d23c-4b49136a87c7"
      },
      "source": [
        "user_test.shape"
      ],
      "execution_count": null,
      "outputs": [
        {
          "output_type": "execute_result",
          "data": {
            "text/plain": [
              "(28, 28)"
            ]
          },
          "metadata": {
            "tags": []
          },
          "execution_count": 59
        }
      ]
    },
    {
      "cell_type": "code",
      "metadata": {
        "id": "5NCGO8YFFGMb",
        "colab_type": "code",
        "colab": {
          "base_uri": "https://localhost:8080/",
          "height": 1000
        },
        "outputId": "a1363261-a5e4-4e7e-f980-403cb76f4831"
      },
      "source": [
        "user_test.reshape(1,28,28,1)"
      ],
      "execution_count": null,
      "outputs": [
        {
          "output_type": "execute_result",
          "data": {
            "text/plain": [
              "array([[[[1.        ],\n",
              "         [1.        ],\n",
              "         [1.        ],\n",
              "         [1.        ],\n",
              "         [1.        ],\n",
              "         [1.        ],\n",
              "         [1.        ],\n",
              "         [1.        ],\n",
              "         [1.        ],\n",
              "         [1.        ],\n",
              "         [0.55686275],\n",
              "         [1.        ],\n",
              "         [0.01176471],\n",
              "         [0.        ],\n",
              "         [0.        ],\n",
              "         [0.        ],\n",
              "         [0.        ],\n",
              "         [0.        ],\n",
              "         [0.        ],\n",
              "         [0.        ],\n",
              "         [0.        ],\n",
              "         [1.        ],\n",
              "         [0.        ],\n",
              "         [0.        ],\n",
              "         [0.4627451 ],\n",
              "         [0.        ],\n",
              "         [0.        ],\n",
              "         [0.99607843]],\n",
              "\n",
              "        [[1.        ],\n",
              "         [1.        ],\n",
              "         [1.        ],\n",
              "         [1.        ],\n",
              "         [1.        ],\n",
              "         [1.        ],\n",
              "         [1.        ],\n",
              "         [1.        ],\n",
              "         [1.        ],\n",
              "         [1.        ],\n",
              "         [1.        ],\n",
              "         [1.        ],\n",
              "         [0.00392157],\n",
              "         [0.        ],\n",
              "         [0.        ],\n",
              "         [0.        ],\n",
              "         [0.        ],\n",
              "         [0.        ],\n",
              "         [0.        ],\n",
              "         [0.        ],\n",
              "         [0.        ],\n",
              "         [1.        ],\n",
              "         [0.00784314],\n",
              "         [0.00784314],\n",
              "         [0.96470588],\n",
              "         [1.        ],\n",
              "         [1.        ],\n",
              "         [1.        ]],\n",
              "\n",
              "        [[1.        ],\n",
              "         [1.        ],\n",
              "         [1.        ],\n",
              "         [1.        ],\n",
              "         [1.        ],\n",
              "         [1.        ],\n",
              "         [1.        ],\n",
              "         [1.        ],\n",
              "         [1.        ],\n",
              "         [0.63921569],\n",
              "         [1.        ],\n",
              "         [1.        ],\n",
              "         [1.        ],\n",
              "         [1.        ],\n",
              "         [1.        ],\n",
              "         [0.98823529],\n",
              "         [0.15294118],\n",
              "         [0.00784314],\n",
              "         [0.        ],\n",
              "         [0.        ],\n",
              "         [0.        ],\n",
              "         [1.        ],\n",
              "         [0.98431373],\n",
              "         [1.        ],\n",
              "         [0.99215686],\n",
              "         [1.        ],\n",
              "         [1.        ],\n",
              "         [1.        ]],\n",
              "\n",
              "        [[1.        ],\n",
              "         [1.        ],\n",
              "         [1.        ],\n",
              "         [1.        ],\n",
              "         [1.        ],\n",
              "         [1.        ],\n",
              "         [1.        ],\n",
              "         [1.        ],\n",
              "         [0.98039216],\n",
              "         [0.01960784],\n",
              "         [0.98431373],\n",
              "         [0.99215686],\n",
              "         [1.        ],\n",
              "         [0.98823529],\n",
              "         [0.97254902],\n",
              "         [0.96862745],\n",
              "         [0.97647059],\n",
              "         [0.74901961],\n",
              "         [0.95686275],\n",
              "         [0.98823529],\n",
              "         [0.98823529],\n",
              "         [0.97647059],\n",
              "         [0.98823529],\n",
              "         [1.        ],\n",
              "         [1.        ],\n",
              "         [1.        ],\n",
              "         [1.        ],\n",
              "         [1.        ]],\n",
              "\n",
              "        [[1.        ],\n",
              "         [1.        ],\n",
              "         [1.        ],\n",
              "         [1.        ],\n",
              "         [1.        ],\n",
              "         [1.        ],\n",
              "         [1.        ],\n",
              "         [1.        ],\n",
              "         [0.01176471],\n",
              "         [0.        ],\n",
              "         [0.        ],\n",
              "         [0.01176471],\n",
              "         [0.        ],\n",
              "         [0.        ],\n",
              "         [0.01176471],\n",
              "         [0.        ],\n",
              "         [0.        ],\n",
              "         [0.01960784],\n",
              "         [0.02745098],\n",
              "         [0.        ],\n",
              "         [0.        ],\n",
              "         [0.01176471],\n",
              "         [0.        ],\n",
              "         [0.35686275],\n",
              "         [0.2       ],\n",
              "         [1.        ],\n",
              "         [1.        ],\n",
              "         [1.        ]],\n",
              "\n",
              "        [[1.        ],\n",
              "         [1.        ],\n",
              "         [1.        ],\n",
              "         [1.        ],\n",
              "         [1.        ],\n",
              "         [1.        ],\n",
              "         [1.        ],\n",
              "         [1.        ],\n",
              "         [0.        ],\n",
              "         [0.        ],\n",
              "         [0.        ],\n",
              "         [0.        ],\n",
              "         [0.        ],\n",
              "         [0.        ],\n",
              "         [0.        ],\n",
              "         [0.        ],\n",
              "         [0.        ],\n",
              "         [0.        ],\n",
              "         [0.        ],\n",
              "         [0.        ],\n",
              "         [0.        ],\n",
              "         [0.        ],\n",
              "         [0.        ],\n",
              "         [0.        ],\n",
              "         [0.        ],\n",
              "         [0.00784314],\n",
              "         [0.01960784],\n",
              "         [1.        ]],\n",
              "\n",
              "        [[1.        ],\n",
              "         [1.        ],\n",
              "         [1.        ],\n",
              "         [1.        ],\n",
              "         [1.        ],\n",
              "         [1.        ],\n",
              "         [1.        ],\n",
              "         [1.        ],\n",
              "         [0.        ],\n",
              "         [0.        ],\n",
              "         [0.        ],\n",
              "         [0.        ],\n",
              "         [0.        ],\n",
              "         [0.        ],\n",
              "         [0.        ],\n",
              "         [0.        ],\n",
              "         [0.        ],\n",
              "         [0.        ],\n",
              "         [0.09019608],\n",
              "         [0.00784314],\n",
              "         [0.00392157],\n",
              "         [0.97647059],\n",
              "         [0.        ],\n",
              "         [0.        ],\n",
              "         [0.        ],\n",
              "         [0.        ],\n",
              "         [0.        ],\n",
              "         [0.        ]],\n",
              "\n",
              "        [[1.        ],\n",
              "         [1.        ],\n",
              "         [1.        ],\n",
              "         [1.        ],\n",
              "         [1.        ],\n",
              "         [1.        ],\n",
              "         [1.        ],\n",
              "         [1.        ],\n",
              "         [0.        ],\n",
              "         [0.        ],\n",
              "         [0.        ],\n",
              "         [0.        ],\n",
              "         [0.        ],\n",
              "         [0.        ],\n",
              "         [0.        ],\n",
              "         [0.        ],\n",
              "         [0.04705882],\n",
              "         [0.00392157],\n",
              "         [0.        ],\n",
              "         [0.        ],\n",
              "         [0.        ],\n",
              "         [0.        ],\n",
              "         [0.01568627],\n",
              "         [0.        ],\n",
              "         [0.        ],\n",
              "         [0.        ],\n",
              "         [0.        ],\n",
              "         [0.        ]],\n",
              "\n",
              "        [[1.        ],\n",
              "         [1.        ],\n",
              "         [1.        ],\n",
              "         [1.        ],\n",
              "         [1.        ],\n",
              "         [1.        ],\n",
              "         [1.        ],\n",
              "         [0.        ],\n",
              "         [0.        ],\n",
              "         [0.        ],\n",
              "         [0.        ],\n",
              "         [0.        ],\n",
              "         [0.        ],\n",
              "         [0.        ],\n",
              "         [0.        ],\n",
              "         [0.        ],\n",
              "         [0.28235294],\n",
              "         [0.        ],\n",
              "         [0.        ],\n",
              "         [0.        ],\n",
              "         [0.        ],\n",
              "         [0.        ],\n",
              "         [0.        ],\n",
              "         [0.01960784],\n",
              "         [0.        ],\n",
              "         [0.        ],\n",
              "         [0.        ],\n",
              "         [0.        ]],\n",
              "\n",
              "        [[1.        ],\n",
              "         [1.        ],\n",
              "         [1.        ],\n",
              "         [1.        ],\n",
              "         [1.        ],\n",
              "         [1.        ],\n",
              "         [1.        ],\n",
              "         [0.        ],\n",
              "         [0.        ],\n",
              "         [0.        ],\n",
              "         [0.        ],\n",
              "         [0.        ],\n",
              "         [0.        ],\n",
              "         [0.        ],\n",
              "         [0.        ],\n",
              "         [0.        ],\n",
              "         [0.        ],\n",
              "         [0.        ],\n",
              "         [0.        ],\n",
              "         [0.        ],\n",
              "         [0.        ],\n",
              "         [0.        ],\n",
              "         [0.        ],\n",
              "         [0.63137255],\n",
              "         [0.        ],\n",
              "         [0.        ],\n",
              "         [0.        ],\n",
              "         [0.        ]],\n",
              "\n",
              "        [[1.        ],\n",
              "         [1.        ],\n",
              "         [1.        ],\n",
              "         [1.        ],\n",
              "         [1.        ],\n",
              "         [1.        ],\n",
              "         [1.        ],\n",
              "         [0.        ],\n",
              "         [0.        ],\n",
              "         [0.        ],\n",
              "         [0.        ],\n",
              "         [0.        ],\n",
              "         [0.        ],\n",
              "         [0.        ],\n",
              "         [0.        ],\n",
              "         [0.        ],\n",
              "         [0.        ],\n",
              "         [0.        ],\n",
              "         [0.        ],\n",
              "         [0.        ],\n",
              "         [0.        ],\n",
              "         [0.        ],\n",
              "         [0.        ],\n",
              "         [0.01960784],\n",
              "         [0.        ],\n",
              "         [0.        ],\n",
              "         [0.        ],\n",
              "         [0.        ]],\n",
              "\n",
              "        [[1.        ],\n",
              "         [1.        ],\n",
              "         [1.        ],\n",
              "         [1.        ],\n",
              "         [1.        ],\n",
              "         [1.        ],\n",
              "         [1.        ],\n",
              "         [0.        ],\n",
              "         [0.        ],\n",
              "         [0.        ],\n",
              "         [0.        ],\n",
              "         [0.        ],\n",
              "         [0.        ],\n",
              "         [0.        ],\n",
              "         [0.        ],\n",
              "         [0.        ],\n",
              "         [0.75294118],\n",
              "         [0.        ],\n",
              "         [0.        ],\n",
              "         [0.        ],\n",
              "         [0.        ],\n",
              "         [0.        ],\n",
              "         [0.        ],\n",
              "         [0.        ],\n",
              "         [0.        ],\n",
              "         [0.        ],\n",
              "         [0.        ],\n",
              "         [0.        ]],\n",
              "\n",
              "        [[1.        ],\n",
              "         [1.        ],\n",
              "         [1.        ],\n",
              "         [1.        ],\n",
              "         [1.        ],\n",
              "         [1.        ],\n",
              "         [0.92941176],\n",
              "         [0.        ],\n",
              "         [0.        ],\n",
              "         [0.        ],\n",
              "         [0.        ],\n",
              "         [0.        ],\n",
              "         [0.        ],\n",
              "         [0.        ],\n",
              "         [0.        ],\n",
              "         [0.        ],\n",
              "         [0.        ],\n",
              "         [0.01176471],\n",
              "         [0.        ],\n",
              "         [0.        ],\n",
              "         [0.        ],\n",
              "         [0.        ],\n",
              "         [0.        ],\n",
              "         [0.02745098],\n",
              "         [0.        ],\n",
              "         [0.        ],\n",
              "         [0.        ],\n",
              "         [0.        ]],\n",
              "\n",
              "        [[1.        ],\n",
              "         [1.        ],\n",
              "         [1.        ],\n",
              "         [1.        ],\n",
              "         [1.        ],\n",
              "         [1.        ],\n",
              "         [0.01176471],\n",
              "         [0.        ],\n",
              "         [0.        ],\n",
              "         [0.        ],\n",
              "         [0.        ],\n",
              "         [0.        ],\n",
              "         [0.        ],\n",
              "         [0.        ],\n",
              "         [0.        ],\n",
              "         [0.        ],\n",
              "         [0.        ],\n",
              "         [0.        ],\n",
              "         [0.        ],\n",
              "         [0.01960784],\n",
              "         [0.        ],\n",
              "         [0.        ],\n",
              "         [0.        ],\n",
              "         [0.63137255],\n",
              "         [0.        ],\n",
              "         [0.        ],\n",
              "         [0.        ],\n",
              "         [0.        ]],\n",
              "\n",
              "        [[1.        ],\n",
              "         [1.        ],\n",
              "         [0.99607843],\n",
              "         [0.00392157],\n",
              "         [1.        ],\n",
              "         [1.        ],\n",
              "         [0.        ],\n",
              "         [0.        ],\n",
              "         [0.        ],\n",
              "         [0.        ],\n",
              "         [0.        ],\n",
              "         [0.        ],\n",
              "         [0.        ],\n",
              "         [0.        ],\n",
              "         [0.        ],\n",
              "         [0.        ],\n",
              "         [0.        ],\n",
              "         [0.        ],\n",
              "         [0.        ],\n",
              "         [0.        ],\n",
              "         [0.        ],\n",
              "         [0.95294118],\n",
              "         [0.01176471],\n",
              "         [0.        ],\n",
              "         [0.        ],\n",
              "         [0.        ],\n",
              "         [0.        ],\n",
              "         [0.        ]],\n",
              "\n",
              "        [[1.        ],\n",
              "         [1.        ],\n",
              "         [0.99215686],\n",
              "         [0.00784314],\n",
              "         [1.        ],\n",
              "         [1.        ],\n",
              "         [0.        ],\n",
              "         [0.        ],\n",
              "         [0.        ],\n",
              "         [0.        ],\n",
              "         [0.        ],\n",
              "         [0.        ],\n",
              "         [0.        ],\n",
              "         [0.        ],\n",
              "         [0.        ],\n",
              "         [0.        ],\n",
              "         [0.        ],\n",
              "         [0.        ],\n",
              "         [0.01568627],\n",
              "         [0.76078431],\n",
              "         [0.00392157],\n",
              "         [0.        ],\n",
              "         [0.00392157],\n",
              "         [0.        ],\n",
              "         [0.        ],\n",
              "         [0.        ],\n",
              "         [0.        ],\n",
              "         [0.        ]],\n",
              "\n",
              "        [[1.        ],\n",
              "         [1.        ],\n",
              "         [0.        ],\n",
              "         [0.48627451],\n",
              "         [1.        ],\n",
              "         [1.        ],\n",
              "         [0.        ],\n",
              "         [0.        ],\n",
              "         [0.        ],\n",
              "         [0.        ],\n",
              "         [0.        ],\n",
              "         [0.        ],\n",
              "         [0.        ],\n",
              "         [0.        ],\n",
              "         [0.        ],\n",
              "         [0.        ],\n",
              "         [0.01176471],\n",
              "         [0.        ],\n",
              "         [0.        ],\n",
              "         [0.        ],\n",
              "         [0.        ],\n",
              "         [0.        ],\n",
              "         [0.00784314],\n",
              "         [0.        ],\n",
              "         [0.        ],\n",
              "         [0.        ],\n",
              "         [0.        ],\n",
              "         [0.        ]],\n",
              "\n",
              "        [[1.        ],\n",
              "         [1.        ],\n",
              "         [0.        ],\n",
              "         [0.99607843],\n",
              "         [1.        ],\n",
              "         [1.        ],\n",
              "         [0.        ],\n",
              "         [0.        ],\n",
              "         [0.        ],\n",
              "         [0.        ],\n",
              "         [0.        ],\n",
              "         [0.        ],\n",
              "         [0.        ],\n",
              "         [0.        ],\n",
              "         [0.        ],\n",
              "         [0.98039216],\n",
              "         [0.        ],\n",
              "         [0.        ],\n",
              "         [0.        ],\n",
              "         [0.        ],\n",
              "         [0.        ],\n",
              "         [0.        ],\n",
              "         [0.        ],\n",
              "         [0.        ],\n",
              "         [0.        ],\n",
              "         [0.        ],\n",
              "         [0.        ],\n",
              "         [0.        ]],\n",
              "\n",
              "        [[1.        ],\n",
              "         [0.98431373],\n",
              "         [0.        ],\n",
              "         [1.        ],\n",
              "         [1.        ],\n",
              "         [0.85098039],\n",
              "         [0.        ],\n",
              "         [0.        ],\n",
              "         [0.        ],\n",
              "         [0.        ],\n",
              "         [0.        ],\n",
              "         [0.        ],\n",
              "         [0.        ],\n",
              "         [0.        ],\n",
              "         [0.        ],\n",
              "         [0.        ],\n",
              "         [0.        ],\n",
              "         [0.        ],\n",
              "         [0.        ],\n",
              "         [0.        ],\n",
              "         [0.        ],\n",
              "         [0.        ],\n",
              "         [0.        ],\n",
              "         [0.        ],\n",
              "         [0.        ],\n",
              "         [0.        ],\n",
              "         [0.        ],\n",
              "         [0.        ]],\n",
              "\n",
              "        [[1.        ],\n",
              "         [0.96470588],\n",
              "         [0.        ],\n",
              "         [1.        ],\n",
              "         [1.        ],\n",
              "         [0.00784314],\n",
              "         [0.        ],\n",
              "         [0.        ],\n",
              "         [0.        ],\n",
              "         [0.        ],\n",
              "         [0.        ],\n",
              "         [0.        ],\n",
              "         [0.        ],\n",
              "         [0.        ],\n",
              "         [0.        ],\n",
              "         [0.        ],\n",
              "         [0.        ],\n",
              "         [0.        ],\n",
              "         [0.        ],\n",
              "         [0.        ],\n",
              "         [0.        ],\n",
              "         [0.        ],\n",
              "         [0.        ],\n",
              "         [0.        ],\n",
              "         [0.        ],\n",
              "         [0.        ],\n",
              "         [0.        ],\n",
              "         [0.        ]],\n",
              "\n",
              "        [[1.        ],\n",
              "         [0.99607843],\n",
              "         [1.        ],\n",
              "         [1.        ],\n",
              "         [1.        ],\n",
              "         [0.        ],\n",
              "         [0.        ],\n",
              "         [0.        ],\n",
              "         [0.        ],\n",
              "         [0.        ],\n",
              "         [0.        ],\n",
              "         [0.        ],\n",
              "         [0.        ],\n",
              "         [0.        ],\n",
              "         [0.        ],\n",
              "         [0.        ],\n",
              "         [0.        ],\n",
              "         [0.        ],\n",
              "         [0.        ],\n",
              "         [0.        ],\n",
              "         [0.        ],\n",
              "         [0.        ],\n",
              "         [0.        ],\n",
              "         [0.36078431],\n",
              "         [0.        ],\n",
              "         [0.        ],\n",
              "         [0.        ],\n",
              "         [0.        ]],\n",
              "\n",
              "        [[1.        ],\n",
              "         [0.98431373],\n",
              "         [1.        ],\n",
              "         [1.        ],\n",
              "         [1.        ],\n",
              "         [0.        ],\n",
              "         [0.        ],\n",
              "         [0.        ],\n",
              "         [0.        ],\n",
              "         [0.        ],\n",
              "         [0.        ],\n",
              "         [0.        ],\n",
              "         [0.        ],\n",
              "         [0.        ],\n",
              "         [0.        ],\n",
              "         [0.        ],\n",
              "         [0.        ],\n",
              "         [0.        ],\n",
              "         [0.        ],\n",
              "         [0.        ],\n",
              "         [0.        ],\n",
              "         [0.        ],\n",
              "         [0.        ],\n",
              "         [0.        ],\n",
              "         [0.        ],\n",
              "         [0.        ],\n",
              "         [0.        ],\n",
              "         [0.        ]],\n",
              "\n",
              "        [[1.        ],\n",
              "         [0.99215686],\n",
              "         [1.        ],\n",
              "         [1.        ],\n",
              "         [1.        ],\n",
              "         [0.        ],\n",
              "         [0.        ],\n",
              "         [0.        ],\n",
              "         [0.        ],\n",
              "         [0.        ],\n",
              "         [0.        ],\n",
              "         [0.        ],\n",
              "         [0.        ],\n",
              "         [0.92941176],\n",
              "         [0.        ],\n",
              "         [0.        ],\n",
              "         [0.        ],\n",
              "         [0.        ],\n",
              "         [0.        ],\n",
              "         [0.        ],\n",
              "         [0.        ],\n",
              "         [0.        ],\n",
              "         [0.        ],\n",
              "         [0.        ],\n",
              "         [0.        ],\n",
              "         [0.        ],\n",
              "         [0.        ],\n",
              "         [0.        ]],\n",
              "\n",
              "        [[1.        ],\n",
              "         [0.76862745],\n",
              "         [1.        ],\n",
              "         [1.        ],\n",
              "         [1.        ],\n",
              "         [0.        ],\n",
              "         [0.        ],\n",
              "         [0.        ],\n",
              "         [0.        ],\n",
              "         [0.        ],\n",
              "         [0.        ],\n",
              "         [0.        ],\n",
              "         [0.        ],\n",
              "         [0.        ],\n",
              "         [0.        ],\n",
              "         [0.        ],\n",
              "         [0.        ],\n",
              "         [0.        ],\n",
              "         [0.        ],\n",
              "         [0.        ],\n",
              "         [0.        ],\n",
              "         [0.        ],\n",
              "         [0.        ],\n",
              "         [0.        ],\n",
              "         [0.        ],\n",
              "         [0.        ],\n",
              "         [0.        ],\n",
              "         [0.        ]],\n",
              "\n",
              "        [[1.        ],\n",
              "         [0.98823529],\n",
              "         [1.        ],\n",
              "         [1.        ],\n",
              "         [0.01568627],\n",
              "         [0.        ],\n",
              "         [0.        ],\n",
              "         [0.        ],\n",
              "         [0.        ],\n",
              "         [0.        ],\n",
              "         [0.        ],\n",
              "         [0.        ],\n",
              "         [0.        ],\n",
              "         [0.        ],\n",
              "         [0.        ],\n",
              "         [0.        ],\n",
              "         [0.        ],\n",
              "         [0.        ],\n",
              "         [0.        ],\n",
              "         [0.        ],\n",
              "         [0.        ],\n",
              "         [0.        ],\n",
              "         [0.01568627],\n",
              "         [0.        ],\n",
              "         [0.        ],\n",
              "         [0.        ],\n",
              "         [0.        ],\n",
              "         [0.        ]],\n",
              "\n",
              "        [[1.        ],\n",
              "         [1.        ],\n",
              "         [1.        ],\n",
              "         [1.        ],\n",
              "         [0.00392157],\n",
              "         [0.        ],\n",
              "         [0.        ],\n",
              "         [0.        ],\n",
              "         [0.        ],\n",
              "         [0.        ],\n",
              "         [0.        ],\n",
              "         [0.        ],\n",
              "         [0.        ],\n",
              "         [0.        ],\n",
              "         [0.        ],\n",
              "         [0.        ],\n",
              "         [0.        ],\n",
              "         [0.        ],\n",
              "         [0.        ],\n",
              "         [0.        ],\n",
              "         [0.        ],\n",
              "         [0.        ],\n",
              "         [0.01176471],\n",
              "         [0.        ],\n",
              "         [0.        ],\n",
              "         [0.        ],\n",
              "         [0.        ],\n",
              "         [0.        ]],\n",
              "\n",
              "        [[1.        ],\n",
              "         [1.        ],\n",
              "         [1.        ],\n",
              "         [1.        ],\n",
              "         [0.        ],\n",
              "         [0.        ],\n",
              "         [0.        ],\n",
              "         [0.        ],\n",
              "         [0.        ],\n",
              "         [0.        ],\n",
              "         [0.        ],\n",
              "         [0.        ],\n",
              "         [0.        ],\n",
              "         [0.        ],\n",
              "         [0.        ],\n",
              "         [0.        ],\n",
              "         [0.        ],\n",
              "         [0.        ],\n",
              "         [0.        ],\n",
              "         [0.        ],\n",
              "         [0.        ],\n",
              "         [0.00392157],\n",
              "         [0.        ],\n",
              "         [0.        ],\n",
              "         [0.        ],\n",
              "         [0.        ],\n",
              "         [0.        ],\n",
              "         [0.        ]],\n",
              "\n",
              "        [[1.        ],\n",
              "         [1.        ],\n",
              "         [1.        ],\n",
              "         [1.        ],\n",
              "         [0.        ],\n",
              "         [0.        ],\n",
              "         [0.        ],\n",
              "         [0.        ],\n",
              "         [0.        ],\n",
              "         [0.        ],\n",
              "         [0.        ],\n",
              "         [0.        ],\n",
              "         [0.        ],\n",
              "         [0.        ],\n",
              "         [0.        ],\n",
              "         [0.        ],\n",
              "         [0.        ],\n",
              "         [0.        ],\n",
              "         [0.        ],\n",
              "         [0.        ],\n",
              "         [0.        ],\n",
              "         [0.        ],\n",
              "         [0.        ],\n",
              "         [0.        ],\n",
              "         [0.        ],\n",
              "         [0.        ],\n",
              "         [0.        ],\n",
              "         [0.        ]]]])"
            ]
          },
          "metadata": {
            "tags": []
          },
          "execution_count": 60
        }
      ]
    }
  ]
}